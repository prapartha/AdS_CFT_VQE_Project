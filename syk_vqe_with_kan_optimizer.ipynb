{
 "cells": [
  {
   "cell_type": "markdown",
   "id": "669dd0b1",
   "metadata": {},
   "source": [
    "# SYK VQE with KAN-based Optimizer\n",
    "\n",
    "This notebook demonstrates replacing the classical optimizer inside VQE with a small KAN (neural network) that proposes parameter updates. Use this as an experimental comparator vs COBYLA/SLSQP.\n",
    "\n",
    "**Warning:** This is experimental and for small toy Hamiltonians only."
   ]
  },
  {
   "cell_type": "code",
   "execution_count": null,
   "id": "5e7529ea",
   "metadata": {},
   "outputs": [],
   "source": [
    "!pip install qiskit qiskit-ibm-provider numpy scipy matplotlib torch"
   ]
  },
  {
   "cell_type": "code",
   "execution_count": null,
   "id": "51cbe947",
   "metadata": {},
   "outputs": [],
   "source": [
    "import numpy as np\n",
    "import torch\n",
    "import torch.nn as nn\n",
    "from qiskit import Aer, transpile\n",
    "from qiskit.quantum_info import SparsePauliOp, Statevector\n",
    "from qiskit.circuit import ParameterVector, QuantumCircuit\n",
    "from qiskit.utils import QuantumInstance, algorithm_globals\n",
    "from qiskit.algorithms import VQE\n",
    "from qiskit.algorithms.optimizers import COBYLA\n",
    "algorithm_globals.random_seed = 42\n",
    "np.random.seed(42)\n",
    "torch.manual_seed(42)\n"
   ]
  },
  {
   "cell_type": "markdown",
   "id": "6b0667cc",
   "metadata": {},
   "source": [
    "## Build toy Hamiltonian (same as previous notebooks)"
   ]
  },
  {
   "cell_type": "code",
   "execution_count": null,
   "id": "edf69b4b",
   "metadata": {},
   "outputs": [],
   "source": [
    "from qiskit.quantum_info import Pauli\n",
    "pauli_list = [\n",
    "    ( -1.2, \"ZZ\"),\n",
    "    (  0.6, \"XI\"),\n",
    "    (  0.4, \"IZ\"),\n",
    "    (  0.2, \"YI\")\n",
    "]\n",
    "H = SparsePauliOp.from_list([(p, c) for c, p in pauli_list])\n",
    "dense_H = H.to_matrix()\n",
    "eigvals, eigvecs = np.linalg.eigh(dense_H)\n",
    "print('Exact ground energy:', eigvals[0])\n",
    "n_qubits = H.num_qubits\n"
   ]
  },
  {
   "cell_type": "markdown",
   "id": "7eeddf1a",
   "metadata": {},
   "source": [
    "## MERA ansatz (reuse small ansatz)"
   ]
  },
  {
   "cell_type": "code",
   "execution_count": null,
   "id": "7c11fc35",
   "metadata": {},
   "outputs": [],
   "source": [
    "from qiskit.circuit import ParameterVector, QuantumCircuit\n",
    "def small_ansatz(n_qubits, reps=2):\n",
    "    params = ParameterVector('t', n_qubits*2*reps)\n",
    "    qc = QuantumCircuit(n_qubits)\n",
    "    idx = 0\n",
    "    for r in range(reps):\n",
    "        for q in range(n_qubits):\n",
    "            qc.ry(params[idx], q); idx+=1\n",
    "            qc.rz(params[idx], q); idx+=1\n",
    "        for q in range(n_qubits-1):\n",
    "            qc.cz(q, q+1)\n",
    "    return qc, params\n",
    "\n",
    "ansatz, params = small_ansatz(n_qubits, reps=2)\n",
    "ansatz.draw('mpl')\n"
   ]
  },
  {
   "cell_type": "markdown",
   "id": "4754c174",
   "metadata": {},
   "source": [
    "## KAN surrogate proposer\n",
    "\n",
    "We create a small neural network that, given the current parameter vector and recent energies, proposes a new parameter vector. We'll train it online to minimize measured ⟨H⟩. This is a simple proof-of-concept."
   ]
  },
  {
   "cell_type": "code",
   "execution_count": null,
   "id": "2708ceb5",
   "metadata": {},
   "outputs": [],
   "source": [
    "class KANProposer(nn.Module):\n",
    "    def __init__(self, param_dim, hidden=128):\n",
    "        super().__init__()\n",
    "        self.net = nn.Sequential(            nn.Linear(param_dim+1, hidden),            nn.ReLU(),            nn.Linear(hidden, hidden),            nn.ReLU(),            nn.Linear(hidden, param_dim)        )\n",
    "    def forward(self, params, energy):\n",
    "        x = torch.cat([params, energy.unsqueeze(0)], dim=0)\n",
    "        return self.net(x)\n",
    "\n",
    "# initialize\n",
    "param_dim = len(params)\n",
    "proposer = KANProposer(param_dim)\n",
    "opt_proposer = torch.optim.Adam(proposer.parameters(), lr=1e-3)\n"
   ]
  },
  {
   "cell_type": "markdown",
   "id": "7e23a2b9",
   "metadata": {},
   "source": [
    "## VQE loop with KAN proposer (simulator statevector for energy eval)\n",
    "\n",
    "Loop: propose new params -> evaluate ⟨H⟩ via statevector simulation -> compute loss = energy and backprop through proposer."
   ]
  },
  {
   "cell_type": "code",
   "execution_count": null,
   "id": "0cc4a317",
   "metadata": {},
   "outputs": [],
   "source": [
    "backend = Aer.get_backend('aer_simulator_statevector')\n",
    "\n",
    "def energy_from_params(param_values):\n",
    "    qc_bound = ansatz.bind_parameters(param_values)\n",
    "    sv = Statevector.from_instruction(qc_bound)\n",
    "    psi = sv.data\n",
    "    e = np.vdot(psi.conj(), dense_H @ psi).real\n",
    "    return float(e)\n",
    "\n",
    "# warm-start: random initial params\n",
    "current_params = np.random.normal(0, 0.1, size=param_dim).astype(np.float32)\n",
    "for epoch in range(50):\n",
    "    p_tensor = torch.tensor(current_params, dtype=torch.float32)\n",
    "    energy_tensor = torch.tensor([energy_from_params(current_params)], dtype=torch.float32)\n",
    "    proposed = proposer(p_tensor, energy_tensor)\n",
    "    alpha = 0.2\n",
    "    new_params = (current_params + alpha * proposed.detach().numpy()).astype(np.float32)\n",
    "    e_curr = energy_from_params(current_params)\n",
    "    e_new = energy_from_params(new_params)\n",
    "    loss = torch.tensor(e_new, requires_grad=True)\n",
    "    opt_proposer.zero_grad()\n",
    "    loss.backward()\n",
    "    opt_proposer.step()\n",
    "    if e_new < e_curr:\n",
    "        current_params = new_params\n",
    "    if epoch % 5 == 0:\n",
    "        print(f'Epoch {epoch}: e_curr={e_curr:.6f}, e_new={e_new:.6f}')\n",
    "print('Final energy (KAN):', energy_from_params(current_params))\n",
    "print('Exact ground:', eigvals[0])\n"
   ]
  },
  {
   "cell_type": "markdown",
   "id": "cb5a5ec4",
   "metadata": {},
   "source": [
    "## Comparison with COBYLA (baseline)"
   ]
  },
  {
   "cell_type": "code",
   "execution_count": null,
   "id": "15432ba5",
   "metadata": {},
   "outputs": [],
   "source": [
    "# baseline using VQE with COBYLA for comparison\n",
    "from qiskit.algorithms.optimizers import COBYLA\n",
    "from qiskit.utils import QuantumInstance\n",
    "from qiskit.algorithms import VQE\n",
    "qi = QuantumInstance(Aer.get_backend('aer_simulator_statevector'))\n",
    "vqe = VQE(ansatz=ansatz, optimizer=COBYLA(maxiter=200), quantum_instance=qi)\n",
    "res = vqe.compute_minimum_eigenvalue(SparsePauliOp.from_list([(p,c) for c,p in pauli_list]))\n",
    "print('COBYLA VQE energy:', res.eigenvalue.real)\n"
   ]
  }
 ],
 "metadata": {},
 "nbformat": 4,
 "nbformat_minor": 5
}
