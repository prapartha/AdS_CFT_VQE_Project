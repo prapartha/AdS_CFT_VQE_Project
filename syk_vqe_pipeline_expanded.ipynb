{
 "cells": [
  {
   "cell_type": "code",
   "execution_count": null,
   "id": "269bfe85",
   "metadata": {},
   "outputs": [],
   "source": [
    "!pip install qiskit qiskit-ibm-provider numpy scipy matplotlib"
   ]
  },
  {
   "cell_type": "markdown",
   "id": "aefd42c5",
   "metadata": {},
   "source": [
    "# SYK–VQE Pipeline (expanded)\n",
    "\n",
    "This notebook includes the VQE + MERA + QSE pipeline and adds SWAP-test and Classical Shadows cells for shot-based Renyi-2 estimation on IBM backends.\n",
    "\n",
    "Run cells sequentially."
   ]
  },
  {
   "cell_type": "code",
   "execution_count": null,
   "id": "fbd3d7ff",
   "metadata": {},
   "outputs": [],
   "source": [
    "import numpy as np\n",
    "import matplotlib.pyplot as plt\n",
    "from itertools import combinations\n",
    "from math import log\n",
    "from qiskit import Aer, transpile, QuantumCircuit\n",
    "from qiskit.quantum_info import Statevector, partial_trace, SparsePauliOp\n",
    "from qiskit.algorithms import VQE\n",
    "from qiskit.algorithms.optimizers import COBYLA, SLSQP\n",
    "from qiskit.utils import QuantumInstance, algorithm_globals\n",
    "from qiskit.circuit import ParameterVector\n",
    "\n",
    "algorithm_globals.random_seed = 42\n",
    "np.random.seed(42)\n"
   ]
  },
  {
   "cell_type": "markdown",
   "id": "02855b2b",
   "metadata": {},
   "source": [
    "## SYK toy Hamiltonian"
   ]
  },
  {
   "cell_type": "code",
   "execution_count": null,
   "id": "f2bb6578",
   "metadata": {},
   "outputs": [],
   "source": [
    "pauli_list = [\n",
    "    ( -1.2, \"ZZ\"),\n",
    "    (  0.6, \"XI\"),\n",
    "    (  0.4, \"IZ\"),\n",
    "    (  0.2, \"YI\")\n",
    "]\n",
    "H = SparsePauliOp.from_list([(p, c) for c, p in pauli_list])\n",
    "print('Hamiltonian:', H)\n",
    "dense_H = H.to_matrix()\n",
    "eigvals, eigvecs = np.linalg.eigh(dense_H)\n",
    "print('Exact ground energy:', eigvals[0])\n"
   ]
  },
  {
   "cell_type": "markdown",
   "id": "58d64ce9",
   "metadata": {},
   "source": [
    "## MERA-inspired ansatz (true-MERA style)"
   ]
  },
  {
   "cell_type": "code",
   "execution_count": null,
   "id": "08392367",
   "metadata": {},
   "outputs": [],
   "source": [
    "def build_true_mera(n_qubits, depth=2):\n",
    "    theta = ParameterVector('mera', depth*3*n_qubits)\n",
    "    qc = QuantumCircuit(n_qubits)\n",
    "    p = 0\n",
    "    for d in range(depth):\n",
    "        for q in range(0, n_qubits-1, 2):\n",
    "            qc.crx(theta[p], q, q+1); p+=1\n",
    "            qc.cry(theta[p], q, q+1); p+=1\n",
    "            qc.crz(theta[p], q, q+1); p+=1\n",
    "        for q in range(1, n_qubits, 2):\n",
    "            qc.cx(q, q-1)\n",
    "            qc.ry(theta[p], q-1); p+=1\n",
    "            qc.barrier()\n",
    "    return qc\n",
    "\n",
    "ansatz = build_true_mera(H.num_qubits, depth=2)\n",
    "try:\n",
    "    display(ansatz.draw('mpl'))\n",
    "except:\n",
    "    print(ansatz)\n"
   ]
  },
  {
   "cell_type": "markdown",
   "id": "a9f1cf19",
   "metadata": {},
   "source": [
    "## VQE run (statevector simulator)"
   ]
  },
  {
   "cell_type": "code",
   "execution_count": null,
   "id": "42dd5d00",
   "metadata": {},
   "outputs": [],
   "source": [
    "backend = Aer.get_backend('aer_simulator_statevector')\n",
    "qi = QuantumInstance(backend, seed_simulator=42, seed_transpiler=42)\n",
    "optimizer = SLSQP(maxiter=200)\n",
    "energy_history = []\n",
    "def callback(eval_count, params, energy, std):\n",
    "    energy_history.append(float(energy))\n",
    "\n",
    "vqe = VQE(ansatz=ansatz, optimizer=optimizer, quantum_instance=qi, callback=callback)\n",
    "result = vqe.compute_minimum_eigenvalue(H)\n",
    "print('VQE energy:', result.eigenvalue.real)\n",
    "print('Exact ground:', eigvals[0])\n",
    "plt.plot(energy_history, 'o-'); plt.axhline(eigvals[0], color='r', linestyle='--'); plt.title('VQE convergence'); plt.show()\n"
   ]
  },
  {
   "cell_type": "markdown",
   "id": "58e907ed",
   "metadata": {},
   "source": [
    "## Quantum Subspace Expansion (QSE)"
   ]
  },
  {
   "cell_type": "code",
   "execution_count": null,
   "id": "c580e149",
   "metadata": {},
   "outputs": [],
   "source": [
    "def run_qse(H_op, ansatz, params):\n",
    "    sv = Statevector.from_instruction(ansatz.bind_parameters(params))\n",
    "    basis = [sv]\n",
    "    for lbl, _ in H_op.to_list()[:min(6,len(H_op.to_list()))]:\n",
    "        mat = SparsePauliOp.from_list([(lbl,1.0)]).to_matrix()\n",
    "        vec = mat @ sv.data\n",
    "        basis.append(Statevector(vec/np.linalg.norm(vec)))\n",
    "    S = np.array([[np.vdot(bi.data, bj.data) for bj in basis] for bi in basis])\n",
    "    Hs = np.array([[np.vdot(bi.data, H_op.to_matrix() @ bj.data) for bj in basis] for bi in basis])\n",
    "    vals, _ = np.linalg.eigh(np.linalg.inv(S) @ Hs)\n",
    "    return np.sort(vals)\n",
    "\n",
    "qse_vals = run_qse(H, ansatz, result.optimal_point)\n",
    "print('QSE refined eigenvalues (sample):', qse_vals[:4])\n"
   ]
  },
  {
   "cell_type": "markdown",
   "id": "00eaec8f",
   "metadata": {},
   "source": [
    "## Entanglement (von Neumann and Renyi-2)"
   ]
  },
  {
   "cell_type": "code",
   "execution_count": null,
   "id": "936928ed",
   "metadata": {},
   "outputs": [],
   "source": [
    "sv = Statevector.from_instruction(ansatz.bind_parameters(result.optimal_point))\n",
    "rho = sv.to_density_matrix()\n",
    "rhoA = partial_trace(rho, [1])\n",
    "eigvals_rhoA = np.real_if_close(np.linalg.eigvals(rhoA.data))\n",
    "eigvals_rhoA = np.clip(eigvals_rhoA,0,1)\n",
    "S_vN = -np.sum([p*np.log(p) for p in eigvals_rhoA if p>1e-12])\n",
    "purity = np.sum(eigvals_rhoA**2)\n",
    "S2 = -np.log(purity)\n",
    "print('von Neumann S:', S_vN)\n",
    "print('Renyi-2 S2:', S2)\n"
   ]
  },
  {
   "cell_type": "markdown",
   "id": "5fcb74a0",
   "metadata": {},
   "source": [
    "## SWAP-test circuit (shot-based) to estimate Renyi-2 (purity)\n",
    "\n",
    "This cell constructs the SWAP-test between two copies of the ansatz state for subsystem A and runs it on a qasm backend (simulator or IBM device)."
   ]
  },
  {
   "cell_type": "code",
   "execution_count": null,
   "id": "a0c44d3f",
   "metadata": {},
   "outputs": [],
   "source": [
    "# Controlled-swap decomposition helper\n",
    "def controlled_swap_decomp(qc, control, a, b):\n",
    "    qc.cx(b, a)\n",
    "    qc.ccx(control, a, b)\n",
    "    qc.cx(b, a)\n",
    "\n",
    "def build_swap_test_circuit(ansatz_bound, subsystem_A):\n",
    "    n = ansatz_bound.num_qubits\n",
    "    total_q = 2*n + 1\n",
    "    qc = QuantumCircuit(total_q, 1)\n",
    "    qc.compose(ansatz_bound, qubits=list(range(0, n)), inplace=True)\n",
    "    qc.compose(ansatz_bound, qubits=list(range(n, 2*n)), inplace=True)\n",
    "    anc = 2*n\n",
    "    qc.h(anc)\n",
    "    for idx in subsystem_A:\n",
    "        controlled_swap_decomp(qc, anc, idx, n + idx)\n",
    "    qc.h(anc)\n",
    "    qc.measure(anc, 0)\n",
    "    return qc\n",
    "\n",
    "# bind ansatz with optimal params\n",
    "circ_bound = ansatz.bind_parameters([result.optimal_point[p] for p in ansatz.parameters])\n",
    "subsystem_A = [0]  # measure purity of qubit 0\n",
    "swap_qc = build_swap_test_circuit(circ_bound, subsystem_A)\n",
    "print('SWAP-test circuit depth:', swap_qc.depth())\n",
    "# run on qasm simulator for demonstration\n",
    "backend_qasm = Aer.get_backend('aer_simulator')\n",
    "job = backend_qasm.run(transpile(swap_qc, backend_qasm), shots=2048)\n",
    "counts = job.result().get_counts()\n",
    "P0 = counts.get('0', 0) / 2048\n",
    "purity_swap = 2.0 * P0 - 1.0\n",
    "print('Swap-test purity estimate (sim):', purity_swap)\n",
    "print('Exact purity (statevector):', purity)\n"
   ]
  },
  {
   "cell_type": "markdown",
   "id": "438b3706",
   "metadata": {},
   "source": [
    "## Classical shadows estimator (shot-based) to reconstruct rho and estimate purity"
   ]
  },
  {
   "cell_type": "code",
   "execution_count": null,
   "id": "09b4578a",
   "metadata": {},
   "outputs": [],
   "source": [
    "import random\n",
    "def apply_basis_rotation_for_label(qc, qubit, basis):\n",
    "    if basis == 'X':\n",
    "        qc.h(qubit)\n",
    "    elif basis == 'Y':\n",
    "        qc.sdg(qubit); qc.h(qubit)\n",
    "\n",
    "def projector_for_basis_outcome(basis, outcome):\n",
    "    if basis == 'Z':\n",
    "        return np.array([[1,0],[0,0]]) if outcome == 0 else np.array([[0,0],[0,1]])\n",
    "    if basis == 'X':\n",
    "        return 0.5 * (np.array([[1,0],[0,1]]) + (np.array([[0,1],[1,0]]) if outcome==0 else -np.array([[0,1],[1,0]])))\n",
    "    if basis == 'Y':\n",
    "        return 0.5 * (np.array([[1,0],[0,1]]) + (np.array([[0,-1j],[1j,0]]) if outcome==0 else -np.array([[0,-1j],[1j,0]])))\n",
    "\n",
    "def classical_shadows_estimator(ansatz_bound, snapshot_rounds=200):\n",
    "    n = ansatz_bound.num_qubits\n",
    "    rho_tilde = np.zeros((2**n, 2**n), dtype=complex)\n",
    "    backend = Aer.get_backend('aer_simulator')\n",
    "    for s in range(snapshot_rounds):\n",
    "        bases = [random.choice(['X','Y','Z']) for _ in range(n)]\n",
    "        qc = QuantumCircuit(n, n)\n",
    "        qc.compose(ansatz_bound, qubits=list(range(n)), inplace=True)\n",
    "        for q_idx,b in enumerate(bases):\n",
    "            apply_basis_rotation_for_label(qc, q_idx, b)\n",
    "        qc.measure(range(n), range(n))\n",
    "        job = backend.run(transpile(qc, backend), shots=1)\n",
    "        counts = job.result().get_counts()\n",
    "        bstr = list(counts.keys())[0]\n",
    "        bits = list(map(int, list(reversed(bstr))))\n",
    "        single_snapshot = np.array([1.0], dtype=complex)\n",
    "        for q_idx in range(n):\n",
    "            P = projector_for_basis_outcome(bases[q_idx], bits[q_idx])\n",
    "            Omega = (3.0 * P - np.eye(2)) / 2.0\n",
    "            single_snapshot = np.kron(single_snapshot, Omega)\n",
    "        rho_tilde += single_snapshot\n",
    "    rho_tilde = rho_tilde / float(snapshot_rounds)\n",
    "    rho_tilde = 0.5 * (rho_tilde + rho_tilde.conj().T)\n",
    "    eigs = np.real_if_close(np.linalg.eigvals(rho_tilde))\n",
    "    eigs = np.clip(eigs, 0, 1)\n",
    "    if eigs.sum()>0:\n",
    "        eigs = eigs / eigs.sum()\n",
    "    purity_est = float(np.trace(rho_tilde @ rho_tilde))\n",
    "    nonzero = eigs[eigs > 1e-12]\n",
    "    S_vN = -float(np.sum(nonzero * np.log(nonzero))) if len(nonzero)>0 else 0.0\n",
    "    return rho_tilde, purity_est, S_vN\n",
    "\n",
    "rho_tilde, purity_shadow, S_vN_shadow = classical_shadows_estimator(circ_bound, snapshot_rounds=200)\n",
    "print('Classical shadows purity estimate:', purity_shadow, 'S_vN estimate:', S_vN_shadow)\n"
   ]
  },
  {
   "cell_type": "markdown",
   "id": "e3149075",
   "metadata": {},
   "source": [
    "## Level spacing statistics (histogram vs GUE/Poisson)"
   ]
  },
  {
   "cell_type": "code",
   "execution_count": null,
   "id": "36820bf6",
   "metadata": {},
   "outputs": [],
   "source": [
    "def plot_level_statistics(vals):\n",
    "    spacings = np.diff(np.sort(vals))\n",
    "    spacings /= np.mean(spacings)\n",
    "    plt.hist(spacings, bins=15, density=True, alpha=0.6)\n",
    "    x = np.linspace(0,3,200)\n",
    "    plt.plot(x, (np.pi/2)*x*np.exp(-np.pi*x**2/4), 'r-', label='GUE')\n",
    "    plt.plot(x, np.exp(-x), 'k--', label='Poisson')\n",
    "    plt.legend(); plt.show()\n",
    "\n",
    "plot_level_statistics(eigvals)\n"
   ]
  },
  {
   "cell_type": "markdown",
   "id": "d96f41a0",
   "metadata": {},
   "source": [
    "## Running on IBM Quantum\n",
    "\n",
    "To run SWAP-test or shadow circuits on IBM devices:\n",
    "\n",
    "```python\n",
    "from qiskit_ibm_provider import IBMProvider\n",
    "IBMProvider.save_account('MY_API_TOKEN')\n",
    "provider = IBMProvider()\n",
    "backend = provider.get_backend('ibmq_qasm_simulator')\n",
    "job = backend.run(transpile(swap_qc, backend), shots=2048)\n",
    "print(job.result().get_counts())\n",
    "```\n",
    "Ensure your account token is kept private."
   ]
  }
 ],
 "metadata": {},
 "nbformat": 4,
 "nbformat_minor": 5
}
